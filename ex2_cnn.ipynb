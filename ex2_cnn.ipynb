{
  "nbformat": 4,
  "nbformat_minor": 0,
  "metadata": {
    "colab": {
      "name": "ex2_cnn.ipynb",
      "version": "0.3.2",
      "provenance": [],
      "collapsed_sections": [],
      "include_colab_link": true
    },
    "kernelspec": {
      "name": "python3",
      "display_name": "Python 3"
    }
  },
  "cells": [
    {
      "cell_type": "markdown",
      "metadata": {
        "id": "view-in-github",
        "colab_type": "text"
      },
      "source": [
        "<a href=\"https://colab.research.google.com/github/juanmed/coursera_tensorflow/blob/master/ex2_cnn.ipynb\" target=\"_parent\"><img src=\"https://colab.research.google.com/assets/colab-badge.svg\" alt=\"Open In Colab\"/></a>"
      ]
    },
    {
      "metadata": {
        "id": "BR1CqOiPz0tK",
        "colab_type": "text"
      },
      "cell_type": "markdown",
      "source": [
        ""
      ]
    },
    {
      "metadata": {
        "id": "_Cm_GiGyyuT8",
        "colab_type": "code",
        "colab": {}
      },
      "cell_type": "code",
      "source": [
        "import tensorflow as tf\n",
        "from tensorflow import keras\n",
        "import matplotlib.pyplot as plt\n",
        "import numpy as np\n",
        "import time"
      ],
      "execution_count": 0,
      "outputs": []
    },
    {
      "metadata": {
        "id": "5C_HFxAmz5EU",
        "colab_type": "code",
        "colab": {
          "base_uri": "https://localhost:8080/",
          "height": 85
        },
        "outputId": "86e97042-a64a-47df-a309-6c3e258b9a75"
      },
      "cell_type": "code",
      "source": [
        "# load fmnist dataset\n",
        "fmnist = keras.datasets.fashion_mnist\n",
        "# get train, tests sets\n",
        "(train_img, train_lbl), (test_img, test_lbl) = fmnist.load_data()\n",
        "print(\"Train images: len {} type {}\".format(len(train_img), type(train_img)))\n",
        "print(\"Train labels: len {} type {}\".format(len(train_lbl), type(train_lbl)))\n",
        "print(\"Test  images: len {} type {}\".format(len(test_img), type(test_img)))\n",
        "print(\"Test  labels: len {} type {}\".format(len(test_lbl), type(test_lbl)))\n",
        "classes = ['tshirt', 'trouser', 'pullover', 'dress', 'coat', 'sandal', 'shirt', 'sneaker', 'bag', 'ankle boot']\n"
      ],
      "execution_count": 22,
      "outputs": [
        {
          "output_type": "stream",
          "text": [
            "Train images: len 60000 type <class 'numpy.ndarray'>\n",
            "Train labels: len 60000 type <class 'numpy.ndarray'>\n",
            "Test  images: len 10000 type <class 'numpy.ndarray'>\n",
            "Test  labels: len 10000 type <class 'numpy.ndarray'>\n"
          ],
          "name": "stdout"
        }
      ]
    },
    {
      "metadata": {
        "id": "nhqYpMuh0LiU",
        "colab_type": "code",
        "colab": {
          "base_uri": "https://localhost:8080/",
          "height": 415
        },
        "outputId": "a3d2537e-1b5e-409e-fb16-cb5386d02f7a"
      },
      "cell_type": "code",
      "source": [
        "# See input data dimensions\n",
        "train_sample = 5\n",
        "print(\"Image size: {}\".format(train_img[train_sample].shape))\n",
        "print(\"Label: {}\".format(train_lbl[train_sample]))\n",
        "print(\"This is a {}\".format(classes[train_lbl[train_sample]]))\n",
        "print(\"Total labels: {}\".format(np.unique(train_lbl)))\n",
        "plt.imshow(train_img[train_sample])\n",
        "plt.grid(False)\n",
        "plt.show()\n"
      ],
      "execution_count": 23,
      "outputs": [
        {
          "output_type": "stream",
          "text": [
            "Image size: (28, 28)\n",
            "Label: 2\n",
            "This is a pullover\n",
            "Total labels: [0 1 2 3 4 5 6 7 8 9]\n"
          ],
          "name": "stdout"
        },
        {
          "output_type": "display_data",
          "data": {
            "image/png": "[encoded data removed]",
            "text/plain": [
              "<Figure size 576x396 with 1 Axes>"
            ]
          },
          "metadata": {
            "tags": []
          }
        }
      ]
    },
    {
      "metadata": {
        "id": "ZpzTy-sy1l9A",
        "colab_type": "code",
        "colab": {}
      },
      "cell_type": "code",
      "source": [
        "# reshape and normalize set\n",
        "train_img = train_img.reshape(60000, 28, 28, 1)/255.0\n",
        "test_img = test_img.reshape(10000, 28, 28, 1)/255.0"
      ],
      "execution_count": 0,
      "outputs": []
    },
    {
      "metadata": {
        "id": "dV6dIYA-5DK0",
        "colab_type": "code",
        "colab": {}
      },
      "cell_type": "code",
      "source": [
        "model = keras.models.Sequential([keras.layers.Conv2D(1, (3,3), activation=tf.nn.relu, input_shape = (28, 28, 1)),\n",
        "                                 keras.layers.MaxPooling2D(2,2),\n",
        "                                 keras.layers.Flatten(),\n",
        "                                 keras.layers.Dense(100, activation=tf.nn.relu),\n",
        "                                 keras.layers.Dense(10, activation=tf.nn.softmax) ])\n"
      ],
      "execution_count": 0,
      "outputs": []
    },
    {
      "metadata": {
        "id": "EwLPsTkQ4zBK",
        "colab_type": "code",
        "colab": {
          "base_uri": "https://localhost:8080/",
          "height": 306
        },
        "outputId": "7bd09f3f-a0b3-4609-8c53-52bef253f99e"
      },
      "cell_type": "code",
      "source": [
        "# Print network\n",
        "model.summary()\n",
        "\n",
        "# Compile network: define optimizer, loss and display metrics\n",
        "model.compile( optimizer = 'adam', loss = 'sparse_categorical_crossentropy', metrics = ['accuracy'])\n"
      ],
      "execution_count": 26,
      "outputs": [
        {
          "output_type": "stream",
          "text": [
            "_________________________________________________________________\n",
            "Layer (type)                 Output Shape              Param #   \n",
            "=================================================================\n",
            "conv2d_2 (Conv2D)            (None, 26, 26, 1)         10        \n",
            "_________________________________________________________________\n",
            "max_pooling2d_2 (MaxPooling2 (None, 13, 13, 1)         0         \n",
            "_________________________________________________________________\n",
            "flatten_1 (Flatten)          (None, 169)               0         \n",
            "_________________________________________________________________\n",
            "dense_2 (Dense)              (None, 100)               17000     \n",
            "_________________________________________________________________\n",
            "dense_3 (Dense)              (None, 10)                1010      \n",
            "=================================================================\n",
            "Total params: 18,020\n",
            "Trainable params: 18,020\n",
            "Non-trainable params: 0\n",
            "_________________________________________________________________\n"
          ],
          "name": "stdout"
        }
      ]
    },
    {
      "metadata": {
        "id": "hw85Jno86Nq6",
        "colab_type": "code",
        "colab": {
          "base_uri": "https://localhost:8080/",
          "height": 102
        },
        "outputId": "02f87d34-acb1-47de-9b9c-8f5520dcd10a"
      },
      "cell_type": "code",
      "source": [
        "# Train\n",
        "t1 = time.monotonic()\n",
        "model.fit(train_img, train_lbl, epochs = 2)\n",
        "t2 = time.monotonic()\n",
        "print(\"Training time: {}\".format(t2-t1))"
      ],
      "execution_count": 31,
      "outputs": [
        {
          "output_type": "stream",
          "text": [
            "Epoch 1/2\n",
            "60000/60000 [==============================] - 18s 296us/sample - loss: 0.3872 - acc: 0.8599\n",
            "Epoch 2/2\n",
            "60000/60000 [==============================] - 18s 299us/sample - loss: 0.3608 - acc: 0.8700\n",
            "Training time: 35.679117108000355\n"
          ],
          "name": "stdout"
        }
      ]
    },
    {
      "metadata": {
        "id": "sr3Oon777FwS",
        "colab_type": "code",
        "colab": {
          "base_uri": "https://localhost:8080/",
          "height": 68
        },
        "outputId": "7a0f4712-d71e-4df1-b70d-633fa90ddf6d"
      },
      "cell_type": "code",
      "source": [
        "# Evaluate\n",
        "print(\"Test set results\")\n",
        "test_params = model.evaluate(test_img, test_lbl)\n",
        "print(test_params)"
      ],
      "execution_count": 33,
      "outputs": [
        {
          "output_type": "stream",
          "text": [
            "Test set results\n",
            "10000/10000 [==============================] - 1s 147us/sample - loss: 0.3925 - acc: 0.8610\n",
            "[0.3925238687753677, 0.861]\n"
          ],
          "name": "stdout"
        }
      ]
    },
    {
      "metadata": {
        "id": "exGLHKRz7aMU",
        "colab_type": "code",
        "colab": {
          "base_uri": "https://localhost:8080/",
          "height": 381
        },
        "outputId": "ad16d7c5-bfb3-4b64-fb9e-d7fdaff57c92"
      },
      "cell_type": "code",
      "source": [
        "# Predict a single image\n",
        "test_img_index = 1050\n",
        "img = test_img[test_img_index].reshape(28,28)*255\n",
        "plt.imshow(img)\n",
        "plt.grid(False)\n",
        "plt.show()\n",
        "\n",
        "\n",
        "img = img.reshape(1,28,28,1)   # we need to reshape it for the network\n",
        "output = model.predict(img)[0]\n",
        "predicted_class = np.where(output == max(output))[0][0]\n",
        "print(\"Prediction: {} with {:.3f}% confidence, \\nGround Truth: {}\".format(classes[predicted_class],output[predicted_class], classes[test_lbl[test_img_index]]))"
      ],
      "execution_count": 50,
      "outputs": [
        {
          "output_type": "display_data",
          "data": {
            "image/png": "[encoded data removed]",
            "text/plain": [
              "<Figure size 576x396 with 1 Axes>"
            ]
          },
          "metadata": {
            "tags": []
          }
        },
        {
          "output_type": "stream",
          "text": [
            "Prediction: coat with 1.000% confidence, \n",
            "Ground Truth: coat\n"
          ],
          "name": "stdout"
        }
      ]
    }
  ]
}